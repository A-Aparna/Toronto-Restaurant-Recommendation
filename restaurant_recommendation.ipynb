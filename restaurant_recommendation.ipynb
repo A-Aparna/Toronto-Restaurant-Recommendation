{
 "cells": [
  {
   "cell_type": "code",
   "execution_count": 1,
   "metadata": {},
   "outputs": [],
   "source": [
    "import numpy as np\n",
    "import pandas as pd\n",
    "import itertools"
   ]
  },
  {
   "cell_type": "code",
   "execution_count": 2,
   "metadata": {},
   "outputs": [],
   "source": [
    "df=pd.read_excel('Toronto_Restaurants.xlsx')"
   ]
  },
  {
   "cell_type": "code",
   "execution_count": 3,
   "metadata": {},
   "outputs": [
    {
     "data": {
      "text/plain": [
       "(3929, 8)"
      ]
     },
     "execution_count": 3,
     "metadata": {},
     "output_type": "execute_result"
    }
   ],
   "source": [
    "df.shape"
   ]
  },
  {
   "cell_type": "code",
   "execution_count": 4,
   "metadata": {},
   "outputs": [
    {
     "data": {
      "text/html": [
       "<div>\n",
       "<style scoped>\n",
       "    .dataframe tbody tr th:only-of-type {\n",
       "        vertical-align: middle;\n",
       "    }\n",
       "\n",
       "    .dataframe tbody tr th {\n",
       "        vertical-align: top;\n",
       "    }\n",
       "\n",
       "    .dataframe thead th {\n",
       "        text-align: right;\n",
       "    }\n",
       "</style>\n",
       "<table border=\"1\" class=\"dataframe\">\n",
       "  <thead>\n",
       "    <tr style=\"text-align: right;\">\n",
       "      <th></th>\n",
       "      <th>address</th>\n",
       "      <th>categories</th>\n",
       "      <th>city</th>\n",
       "      <th>name</th>\n",
       "      <th>stars</th>\n",
       "      <th>cuisine</th>\n",
       "      <th>website</th>\n",
       "      <th>cost</th>\n",
       "    </tr>\n",
       "  </thead>\n",
       "  <tbody>\n",
       "    <tr>\n",
       "      <th>0</th>\n",
       "      <td>1170 Queen Street W</td>\n",
       "      <td>Juice Bars &amp; Smoothies, Food, Restaurants, Fas...</td>\n",
       "      <td>Toronto</td>\n",
       "      <td>Bolt Fresh Bar</td>\n",
       "      <td>3.0</td>\n",
       "      <td>Dessert</td>\n",
       "      <td>https://www.boltfreshbar.com</td>\n",
       "      <td>2</td>\n",
       "    </tr>\n",
       "    <tr>\n",
       "      <th>1</th>\n",
       "      <td>1051 Bloor Street W</td>\n",
       "      <td>Restaurants, Nightlife, Breakfast &amp; Brunch, Ve...</td>\n",
       "      <td>Toronto</td>\n",
       "      <td>The Steady Cafe &amp; Bar</td>\n",
       "      <td>3.5</td>\n",
       "      <td>Breakfast &amp; Brunch</td>\n",
       "      <td>NaN</td>\n",
       "      <td>2</td>\n",
       "    </tr>\n",
       "    <tr>\n",
       "      <th>2</th>\n",
       "      <td>582 College Street</td>\n",
       "      <td>Restaurants, Breakfast &amp; Brunch, Bars, Modern ...</td>\n",
       "      <td>Toronto</td>\n",
       "      <td>Mad Crush Wine Bar</td>\n",
       "      <td>4.0</td>\n",
       "      <td>Breakfast &amp; Brunch</td>\n",
       "      <td>NaN</td>\n",
       "      <td>3</td>\n",
       "    </tr>\n",
       "    <tr>\n",
       "      <th>3</th>\n",
       "      <td>1614 Queen Street E</td>\n",
       "      <td>Tex-Mex, Mexican, Restaurants</td>\n",
       "      <td>Toronto</td>\n",
       "      <td>Burrito Bandidos</td>\n",
       "      <td>3.5</td>\n",
       "      <td>Mexican</td>\n",
       "      <td>www.burritobandidos.com</td>\n",
       "      <td>1</td>\n",
       "    </tr>\n",
       "    <tr>\n",
       "      <th>4</th>\n",
       "      <td>165 East Liberty Street</td>\n",
       "      <td>Middle Eastern, Restaurants, Salad, Breakfast ...</td>\n",
       "      <td>Toronto</td>\n",
       "      <td>Paramount Fine Foods</td>\n",
       "      <td>2.0</td>\n",
       "      <td>Mediterranean</td>\n",
       "      <td>https://www.paramountfinefoods.com</td>\n",
       "      <td>2</td>\n",
       "    </tr>\n",
       "  </tbody>\n",
       "</table>\n",
       "</div>"
      ],
      "text/plain": [
       "                   address                                         categories  \\\n",
       "0      1170 Queen Street W  Juice Bars & Smoothies, Food, Restaurants, Fas...   \n",
       "1      1051 Bloor Street W  Restaurants, Nightlife, Breakfast & Brunch, Ve...   \n",
       "2       582 College Street  Restaurants, Breakfast & Brunch, Bars, Modern ...   \n",
       "3      1614 Queen Street E                      Tex-Mex, Mexican, Restaurants   \n",
       "4  165 East Liberty Street  Middle Eastern, Restaurants, Salad, Breakfast ...   \n",
       "\n",
       "      city                   name  stars             cuisine  \\\n",
       "0  Toronto         Bolt Fresh Bar    3.0             Dessert   \n",
       "1  Toronto  The Steady Cafe & Bar    3.5  Breakfast & Brunch   \n",
       "2  Toronto     Mad Crush Wine Bar    4.0  Breakfast & Brunch   \n",
       "3  Toronto       Burrito Bandidos    3.5             Mexican   \n",
       "4  Toronto   Paramount Fine Foods    2.0       Mediterranean   \n",
       "\n",
       "                              website  cost  \n",
       "0        https://www.boltfreshbar.com     2  \n",
       "1                                 NaN     2  \n",
       "2                                 NaN     3  \n",
       "3             www.burritobandidos.com     1  \n",
       "4  https://www.paramountfinefoods.com     2  "
      ]
     },
     "execution_count": 4,
     "metadata": {},
     "output_type": "execute_result"
    }
   ],
   "source": [
    "df.head()"
   ]
  },
  {
   "cell_type": "code",
   "execution_count": 5,
   "metadata": {},
   "outputs": [
    {
     "data": {
      "text/html": [
       "<div>\n",
       "<style scoped>\n",
       "    .dataframe tbody tr th:only-of-type {\n",
       "        vertical-align: middle;\n",
       "    }\n",
       "\n",
       "    .dataframe tbody tr th {\n",
       "        vertical-align: top;\n",
       "    }\n",
       "\n",
       "    .dataframe thead th {\n",
       "        text-align: right;\n",
       "    }\n",
       "</style>\n",
       "<table border=\"1\" class=\"dataframe\">\n",
       "  <thead>\n",
       "    <tr style=\"text-align: right;\">\n",
       "      <th></th>\n",
       "      <th>address</th>\n",
       "      <th>categories</th>\n",
       "      <th>city</th>\n",
       "      <th>name</th>\n",
       "      <th>stars</th>\n",
       "      <th>website</th>\n",
       "      <th>cost</th>\n",
       "    </tr>\n",
       "    <tr>\n",
       "      <th>cuisine</th>\n",
       "      <th></th>\n",
       "      <th></th>\n",
       "      <th></th>\n",
       "      <th></th>\n",
       "      <th></th>\n",
       "      <th></th>\n",
       "      <th></th>\n",
       "    </tr>\n",
       "  </thead>\n",
       "  <tbody>\n",
       "    <tr>\n",
       "      <th>Breakfast &amp; Brunch</th>\n",
       "      <td>400</td>\n",
       "      <td>400</td>\n",
       "      <td>400</td>\n",
       "      <td>400</td>\n",
       "      <td>400</td>\n",
       "      <td>206</td>\n",
       "      <td>400</td>\n",
       "    </tr>\n",
       "    <tr>\n",
       "      <th>Canadian</th>\n",
       "      <td>606</td>\n",
       "      <td>606</td>\n",
       "      <td>606</td>\n",
       "      <td>606</td>\n",
       "      <td>606</td>\n",
       "      <td>284</td>\n",
       "      <td>606</td>\n",
       "    </tr>\n",
       "    <tr>\n",
       "      <th>Chinese</th>\n",
       "      <td>368</td>\n",
       "      <td>368</td>\n",
       "      <td>368</td>\n",
       "      <td>368</td>\n",
       "      <td>368</td>\n",
       "      <td>116</td>\n",
       "      <td>368</td>\n",
       "    </tr>\n",
       "    <tr>\n",
       "      <th>Dessert</th>\n",
       "      <td>224</td>\n",
       "      <td>224</td>\n",
       "      <td>224</td>\n",
       "      <td>224</td>\n",
       "      <td>224</td>\n",
       "      <td>121</td>\n",
       "      <td>224</td>\n",
       "    </tr>\n",
       "    <tr>\n",
       "      <th>European</th>\n",
       "      <td>591</td>\n",
       "      <td>591</td>\n",
       "      <td>591</td>\n",
       "      <td>591</td>\n",
       "      <td>591</td>\n",
       "      <td>330</td>\n",
       "      <td>591</td>\n",
       "    </tr>\n",
       "    <tr>\n",
       "      <th>Indian</th>\n",
       "      <td>238</td>\n",
       "      <td>238</td>\n",
       "      <td>238</td>\n",
       "      <td>238</td>\n",
       "      <td>238</td>\n",
       "      <td>120</td>\n",
       "      <td>238</td>\n",
       "    </tr>\n",
       "    <tr>\n",
       "      <th>Japan</th>\n",
       "      <td>597</td>\n",
       "      <td>597</td>\n",
       "      <td>597</td>\n",
       "      <td>597</td>\n",
       "      <td>597</td>\n",
       "      <td>282</td>\n",
       "      <td>597</td>\n",
       "    </tr>\n",
       "    <tr>\n",
       "      <th>Mediterranean</th>\n",
       "      <td>413</td>\n",
       "      <td>413</td>\n",
       "      <td>413</td>\n",
       "      <td>413</td>\n",
       "      <td>413</td>\n",
       "      <td>189</td>\n",
       "      <td>413</td>\n",
       "    </tr>\n",
       "    <tr>\n",
       "      <th>Mexican</th>\n",
       "      <td>236</td>\n",
       "      <td>236</td>\n",
       "      <td>236</td>\n",
       "      <td>236</td>\n",
       "      <td>236</td>\n",
       "      <td>139</td>\n",
       "      <td>236</td>\n",
       "    </tr>\n",
       "    <tr>\n",
       "      <th>Thai</th>\n",
       "      <td>256</td>\n",
       "      <td>256</td>\n",
       "      <td>256</td>\n",
       "      <td>256</td>\n",
       "      <td>256</td>\n",
       "      <td>121</td>\n",
       "      <td>256</td>\n",
       "    </tr>\n",
       "  </tbody>\n",
       "</table>\n",
       "</div>"
      ],
      "text/plain": [
       "                    address  categories  city  name  stars  website  cost\n",
       "cuisine                                                                  \n",
       "Breakfast & Brunch      400         400   400   400    400      206   400\n",
       "Canadian                606         606   606   606    606      284   606\n",
       "Chinese                 368         368   368   368    368      116   368\n",
       "Dessert                 224         224   224   224    224      121   224\n",
       "European                591         591   591   591    591      330   591\n",
       "Indian                  238         238   238   238    238      120   238\n",
       "Japan                   597         597   597   597    597      282   597\n",
       "Mediterranean           413         413   413   413    413      189   413\n",
       "Mexican                 236         236   236   236    236      139   236\n",
       "Thai                    256         256   256   256    256      121   256"
      ]
     },
     "execution_count": 5,
     "metadata": {},
     "output_type": "execute_result"
    }
   ],
   "source": [
    "df.groupby('cuisine').count()"
   ]
  },
  {
   "cell_type": "code",
   "execution_count": 6,
   "metadata": {},
   "outputs": [
    {
     "data": {
      "text/plain": [
       "array([['Dessert', 2],\n",
       "       ['Breakfast & Brunch', 2],\n",
       "       ['Breakfast & Brunch', 3],\n",
       "       ...,\n",
       "       ['Breakfast & Brunch', 2],\n",
       "       ['Japan', 3],\n",
       "       ['Thai', 2]], dtype=object)"
      ]
     },
     "execution_count": 6,
     "metadata": {},
     "output_type": "execute_result"
    }
   ],
   "source": [
    "X=df.iloc[:,[5,7]].values\n",
    "X_train=X.copy()\n",
    "X"
   ]
  },
  {
   "cell_type": "code",
   "execution_count": 7,
   "metadata": {},
   "outputs": [
    {
     "name": "stderr",
     "output_type": "stream",
     "text": [
      "C:\\Users\\hp\\Anaconda3\\lib\\site-packages\\sklearn\\preprocessing\\_encoders.py:368: FutureWarning: The handling of integer data will change in version 0.22. Currently, the categories are determined based on the range [0, max(values)], while in the future they will be determined based on the unique values.\n",
      "If you want the future behaviour and silence this warning, you can specify \"categories='auto'\".\n",
      "In case you used a LabelEncoder before this OneHotEncoder to convert the categories to integers, then you can now use the OneHotEncoder directly.\n",
      "  warnings.warn(msg, FutureWarning)\n",
      "C:\\Users\\hp\\Anaconda3\\lib\\site-packages\\sklearn\\preprocessing\\_encoders.py:390: DeprecationWarning: The 'categorical_features' keyword is deprecated in version 0.20 and will be removed in 0.22. You can use the ColumnTransformer instead.\n",
      "  \"use the ColumnTransformer instead.\", DeprecationWarning)\n"
     ]
    },
    {
     "data": {
      "text/plain": [
       "array([[0., 0., 0., ..., 0., 0., 2.],\n",
       "       [1., 0., 0., ..., 0., 0., 2.],\n",
       "       [1., 0., 0., ..., 0., 0., 3.],\n",
       "       ...,\n",
       "       [1., 0., 0., ..., 0., 0., 2.],\n",
       "       [0., 0., 0., ..., 0., 0., 3.],\n",
       "       [0., 0., 0., ..., 0., 1., 2.]])"
      ]
     },
     "execution_count": 7,
     "metadata": {},
     "output_type": "execute_result"
    }
   ],
   "source": [
    "from sklearn.preprocessing import LabelEncoder, OneHotEncoder\n",
    "labelencoder_X = LabelEncoder()\n",
    "X_train[:, 0] = labelencoder_X.fit_transform(X_train[:, 0])\n",
    "onehotencoder = OneHotEncoder(categorical_features = [0])\n",
    "X_train = onehotencoder.fit_transform(X_train).toarray()\n",
    "X_train"
   ]
  },
  {
   "cell_type": "code",
   "execution_count": 8,
   "metadata": {},
   "outputs": [
    {
     "data": {
      "text/plain": [
       "array([['Dessert', 2],\n",
       "       ['Breakfast & Brunch', 2],\n",
       "       ['Breakfast & Brunch', 3],\n",
       "       ...,\n",
       "       ['Breakfast & Brunch', 2],\n",
       "       ['Japan', 3],\n",
       "       ['Thai', 2]], dtype=object)"
      ]
     },
     "execution_count": 8,
     "metadata": {},
     "output_type": "execute_result"
    }
   ],
   "source": [
    "X"
   ]
  },
  {
   "cell_type": "code",
   "execution_count": 9,
   "metadata": {},
   "outputs": [
    {
     "name": "stderr",
     "output_type": "stream",
     "text": [
      "C:\\Users\\hp\\Anaconda3\\lib\\site-packages\\sklearn\\cluster\\k_means_.py:971: ConvergenceWarning: Number of distinct clusters (29) found smaller than n_clusters (30). Possibly due to duplicate points in X.\n",
      "  return_n_iter=True)\n",
      "C:\\Users\\hp\\Anaconda3\\lib\\site-packages\\sklearn\\cluster\\k_means_.py:971: ConvergenceWarning: Number of distinct clusters (29) found smaller than n_clusters (31). Possibly due to duplicate points in X.\n",
      "  return_n_iter=True)\n"
     ]
    },
    {
     "data": {
      "text/plain": [
       "<Figure size 640x480 with 1 Axes>"
      ]
     },
     "metadata": {},
     "output_type": "display_data"
    }
   ],
   "source": [
    "from sklearn.cluster import KMeans\n",
    "import matplotlib.pyplot as plt\n",
    "import matplotlib as mpl\n",
    "wcss = []\n",
    "for i in range(1, 32):\n",
    "    kmeans = KMeans(n_clusters = i, init = 'k-means++', random_state = 42)\n",
    "    kmeans.fit(X_train)\n",
    "    wcss.append(kmeans.inertia_)\n",
    "plt.plot(range(1,32), wcss)\n",
    "plt.title('The Elbow Method')\n",
    "plt.xlabel('Number of clusters')\n",
    "plt.ylabel('WCSS')\n",
    "plt.show()\n",
    "\n",
    "# Fitting K-Means to the dataset\n",
    "\n",
    "\n"
   ]
  },
  {
   "cell_type": "code",
   "execution_count": 10,
   "metadata": {},
   "outputs": [
    {
     "name": "stderr",
     "output_type": "stream",
     "text": [
      "C:\\Users\\hp\\Anaconda3\\lib\\site-packages\\sklearn\\cluster\\k_means_.py:971: ConvergenceWarning: Number of distinct clusters (29) found smaller than n_clusters (30). Possibly due to duplicate points in X.\n",
      "  return_n_iter=True)\n"
     ]
    }
   ],
   "source": [
    "kmeans = KMeans(n_clusters = 30, init = 'k-means++', random_state = 42)\n",
    "y_kmeans = kmeans.fit_predict(X_train)"
   ]
  },
  {
   "cell_type": "code",
   "execution_count": 11,
   "metadata": {},
   "outputs": [],
   "source": [
    "def plotscatter(X,y_kmeans,n):\n",
    "    colors = itertools.cycle([\"r\", \"b\", \"g\",\"c\",\"m\",\"y\",\"k\",\"pink\",\"indigo\",\"olive\",\"tomato\",\"lime\"])\n",
    "    cmap = mpl.cm.autumn\n",
    "    for i in range(0,n):\n",
    "        plt.scatter(X[y_kmeans == i, 0], X[y_kmeans == i, 1], s = 100, color=next(colors))\n",
    "    plt.rcParams[\"figure.figsize\"] = 16,6\n",
    "    plt.title('Clusters of restaurants')\n",
    "    plt.xlabel('Cuisine Type ')\n",
    "    plt.ylabel('Cost($) ')\n",
    "    plt.legend()\n",
    "    plt.show()\n",
    "    #fig_size = plt.rcParams[\"figure.figsize\"]\n",
    "    \n",
    "    return"
   ]
  },
  {
   "cell_type": "code",
   "execution_count": 13,
   "metadata": {},
   "outputs": [
    {
     "name": "stderr",
     "output_type": "stream",
     "text": [
      "No handles with labels found to put in legend.\n"
     ]
    },
    {
     "data": {
      "image/png": "[encoded data removed]",
      "text/plain": [
       "<Figure size 1152x432 with 1 Axes>"
      ]
     },
     "metadata": {
      "needs_background": "light"
     },
     "output_type": "display_data"
    }
   ],
   "source": [
    "plotscatter(X,y_kmeans,30)"
   ]
  },
  {
   "cell_type": "code",
   "execution_count": 14,
   "metadata": {},
   "outputs": [
    {
     "data": {
      "text/html": [
       "<div>\n",
       "<style scoped>\n",
       "    .dataframe tbody tr th:only-of-type {\n",
       "        vertical-align: middle;\n",
       "    }\n",
       "\n",
       "    .dataframe tbody tr th {\n",
       "        vertical-align: top;\n",
       "    }\n",
       "\n",
       "    .dataframe thead th {\n",
       "        text-align: right;\n",
       "    }\n",
       "</style>\n",
       "<table border=\"1\" class=\"dataframe\">\n",
       "  <thead>\n",
       "    <tr style=\"text-align: right;\">\n",
       "      <th></th>\n",
       "      <th>Cluster ID</th>\n",
       "      <th>address</th>\n",
       "      <th>categories</th>\n",
       "      <th>city</th>\n",
       "      <th>name</th>\n",
       "      <th>stars</th>\n",
       "      <th>cuisine</th>\n",
       "      <th>website</th>\n",
       "      <th>cost</th>\n",
       "    </tr>\n",
       "  </thead>\n",
       "  <tbody>\n",
       "    <tr>\n",
       "      <th>0</th>\n",
       "      <td>0</td>\n",
       "      <td>1170 Queen Street W</td>\n",
       "      <td>Juice Bars &amp; Smoothies, Food, Restaurants, Fas...</td>\n",
       "      <td>Toronto</td>\n",
       "      <td>Bolt Fresh Bar</td>\n",
       "      <td>3.0</td>\n",
       "      <td>Dessert</td>\n",
       "      <td>https://www.boltfreshbar.com</td>\n",
       "      <td>2</td>\n",
       "    </tr>\n",
       "    <tr>\n",
       "      <th>1</th>\n",
       "      <td>6</td>\n",
       "      <td>1051 Bloor Street W</td>\n",
       "      <td>Restaurants, Nightlife, Breakfast &amp; Brunch, Ve...</td>\n",
       "      <td>Toronto</td>\n",
       "      <td>The Steady Cafe &amp; Bar</td>\n",
       "      <td>3.5</td>\n",
       "      <td>Breakfast &amp; Brunch</td>\n",
       "      <td>NaN</td>\n",
       "      <td>2</td>\n",
       "    </tr>\n",
       "    <tr>\n",
       "      <th>2</th>\n",
       "      <td>25</td>\n",
       "      <td>582 College Street</td>\n",
       "      <td>Restaurants, Breakfast &amp; Brunch, Bars, Modern ...</td>\n",
       "      <td>Toronto</td>\n",
       "      <td>Mad Crush Wine Bar</td>\n",
       "      <td>4.0</td>\n",
       "      <td>Breakfast &amp; Brunch</td>\n",
       "      <td>NaN</td>\n",
       "      <td>3</td>\n",
       "    </tr>\n",
       "    <tr>\n",
       "      <th>3</th>\n",
       "      <td>8</td>\n",
       "      <td>1614 Queen Street E</td>\n",
       "      <td>Tex-Mex, Mexican, Restaurants</td>\n",
       "      <td>Toronto</td>\n",
       "      <td>Burrito Bandidos</td>\n",
       "      <td>3.5</td>\n",
       "      <td>Mexican</td>\n",
       "      <td>www.burritobandidos.com</td>\n",
       "      <td>1</td>\n",
       "    </tr>\n",
       "    <tr>\n",
       "      <th>4</th>\n",
       "      <td>9</td>\n",
       "      <td>165 East Liberty Street</td>\n",
       "      <td>Middle Eastern, Restaurants, Salad, Breakfast ...</td>\n",
       "      <td>Toronto</td>\n",
       "      <td>Paramount Fine Foods</td>\n",
       "      <td>2.0</td>\n",
       "      <td>Mediterranean</td>\n",
       "      <td>https://www.paramountfinefoods.com</td>\n",
       "      <td>2</td>\n",
       "    </tr>\n",
       "  </tbody>\n",
       "</table>\n",
       "</div>"
      ],
      "text/plain": [
       "   Cluster ID                  address  \\\n",
       "0           0      1170 Queen Street W   \n",
       "1           6      1051 Bloor Street W   \n",
       "2          25       582 College Street   \n",
       "3           8      1614 Queen Street E   \n",
       "4           9  165 East Liberty Street   \n",
       "\n",
       "                                          categories     city  \\\n",
       "0  Juice Bars & Smoothies, Food, Restaurants, Fas...  Toronto   \n",
       "1  Restaurants, Nightlife, Breakfast & Brunch, Ve...  Toronto   \n",
       "2  Restaurants, Breakfast & Brunch, Bars, Modern ...  Toronto   \n",
       "3                      Tex-Mex, Mexican, Restaurants  Toronto   \n",
       "4  Middle Eastern, Restaurants, Salad, Breakfast ...  Toronto   \n",
       "\n",
       "                    name  stars             cuisine  \\\n",
       "0         Bolt Fresh Bar    3.0             Dessert   \n",
       "1  The Steady Cafe & Bar    3.5  Breakfast & Brunch   \n",
       "2     Mad Crush Wine Bar    4.0  Breakfast & Brunch   \n",
       "3       Burrito Bandidos    3.5             Mexican   \n",
       "4   Paramount Fine Foods    2.0       Mediterranean   \n",
       "\n",
       "                              website  cost  \n",
       "0        https://www.boltfreshbar.com     2  \n",
       "1                                 NaN     2  \n",
       "2                                 NaN     3  \n",
       "3             www.burritobandidos.com     1  \n",
       "4  https://www.paramountfinefoods.com     2  "
      ]
     },
     "execution_count": 14,
     "metadata": {},
     "output_type": "execute_result"
    }
   ],
   "source": [
    "dfd=pd.DataFrame({\"Cluster ID\":y_kmeans})\n",
    "dfa=pd.concat([dfd, df],axis=1, sort=False)\n",
    "dfa.head()"
   ]
  },
  {
   "cell_type": "code",
   "execution_count": 15,
   "metadata": {},
   "outputs": [
    {
     "data": {
      "text/plain": [
       "array([ 0,  6, 25,  8,  9,  2,  3, 11,  5, 10,  1, 13, 22, 14, 15,  7, 21,\n",
       "       12, 16,  4, 18, 24, 17, 19, 28, 20, 23, 27, 26], dtype=int64)"
      ]
     },
     "execution_count": 15,
     "metadata": {},
     "output_type": "execute_result"
    }
   ],
   "source": [
    "dfa[\"Cluster ID\"].unique()"
   ]
  },
  {
   "cell_type": "code",
   "execution_count": 17,
   "metadata": {},
   "outputs": [],
   "source": [
    "#Testing with random selection\n",
    "Xt=np.array([[\"Japan\",2.6]])"
   ]
  },
  {
   "cell_type": "code",
   "execution_count": 18,
   "metadata": {
    "scrolled": true
   },
   "outputs": [
    {
     "name": "stdout",
     "output_type": "stream",
     "text": [
      "[['6' '2.6']]\n"
     ]
    }
   ],
   "source": [
    "Xt[:,0] = labelencoder_X.transform(Xt[:,0])\n",
    "print(Xt)\n",
    "Xt = onehotencoder.transform(Xt).toarray()"
   ]
  },
  {
   "cell_type": "code",
   "execution_count": 19,
   "metadata": {},
   "outputs": [],
   "source": [
    "def cluster_predict(Xt):\n",
    "    #Y = vectorizer.transform(list(str_input))\n",
    "    prediction = kmeans.predict(Xt)\n",
    "    return prediction"
   ]
  },
  {
   "cell_type": "code",
   "execution_count": 20,
   "metadata": {},
   "outputs": [
    {
     "data": {
      "text/html": [
       "<div>\n",
       "<style scoped>\n",
       "    .dataframe tbody tr th:only-of-type {\n",
       "        vertical-align: middle;\n",
       "    }\n",
       "\n",
       "    .dataframe tbody tr th {\n",
       "        vertical-align: top;\n",
       "    }\n",
       "\n",
       "    .dataframe thead th {\n",
       "        text-align: right;\n",
       "    }\n",
       "</style>\n",
       "<table border=\"1\" class=\"dataframe\">\n",
       "  <thead>\n",
       "    <tr style=\"text-align: right;\">\n",
       "      <th></th>\n",
       "      <th>Cluster ID</th>\n",
       "      <th>address</th>\n",
       "      <th>categories</th>\n",
       "      <th>city</th>\n",
       "      <th>name</th>\n",
       "      <th>stars</th>\n",
       "      <th>cuisine</th>\n",
       "      <th>website</th>\n",
       "      <th>cost</th>\n",
       "    </tr>\n",
       "  </thead>\n",
       "  <tbody>\n",
       "    <tr>\n",
       "      <th>32</th>\n",
       "      <td>22</td>\n",
       "      <td>2035 Kennedy Road, 14th Floor</td>\n",
       "      <td>Japanese, Restaurants</td>\n",
       "      <td>Toronto</td>\n",
       "      <td>Sagano</td>\n",
       "      <td>3.0</td>\n",
       "      <td>Japan</td>\n",
       "      <td>NaN</td>\n",
       "      <td>3</td>\n",
       "    </tr>\n",
       "    <tr>\n",
       "      <th>438</th>\n",
       "      <td>22</td>\n",
       "      <td>655 Bay Street</td>\n",
       "      <td>Japanese, Asian Fusion, Sushi Bars, Restaurants</td>\n",
       "      <td>Toronto</td>\n",
       "      <td>KaKa All You Can Eat</td>\n",
       "      <td>3.5</td>\n",
       "      <td>Japan</td>\n",
       "      <td>kakaallyoucaneat.ca</td>\n",
       "      <td>3</td>\n",
       "    </tr>\n",
       "    <tr>\n",
       "      <th>539</th>\n",
       "      <td>22</td>\n",
       "      <td>181 Bay Street</td>\n",
       "      <td>Japanese, Restaurants, Sushi Bars</td>\n",
       "      <td>Toronto</td>\n",
       "      <td>Ki Modern Japanese + Bar</td>\n",
       "      <td>3.5</td>\n",
       "      <td>Japan</td>\n",
       "      <td>www.kijapanese.com</td>\n",
       "      <td>3</td>\n",
       "    </tr>\n",
       "    <tr>\n",
       "      <th>569</th>\n",
       "      <td>22</td>\n",
       "      <td>236 Adelaide Street W</td>\n",
       "      <td>Restaurants, Sushi Bars, Japanese</td>\n",
       "      <td>Toronto</td>\n",
       "      <td>Yuzu No Hana</td>\n",
       "      <td>4.0</td>\n",
       "      <td>Japan</td>\n",
       "      <td>www.yuzunohana.ca</td>\n",
       "      <td>3</td>\n",
       "    </tr>\n",
       "    <tr>\n",
       "      <th>671</th>\n",
       "      <td>22</td>\n",
       "      <td>42 Gristmill Lane</td>\n",
       "      <td>Restaurants, Seafood, Sushi Bars, Ramen, Japanese</td>\n",
       "      <td>Toronto</td>\n",
       "      <td>Boku Sushi</td>\n",
       "      <td>3.5</td>\n",
       "      <td>Japan</td>\n",
       "      <td>NaN</td>\n",
       "      <td>3</td>\n",
       "    </tr>\n",
       "  </tbody>\n",
       "</table>\n",
       "</div>"
      ],
      "text/plain": [
       "     Cluster ID                        address  \\\n",
       "32           22  2035 Kennedy Road, 14th Floor   \n",
       "438          22                 655 Bay Street   \n",
       "539          22                 181 Bay Street   \n",
       "569          22          236 Adelaide Street W   \n",
       "671          22              42 Gristmill Lane   \n",
       "\n",
       "                                            categories     city  \\\n",
       "32                               Japanese, Restaurants  Toronto   \n",
       "438    Japanese, Asian Fusion, Sushi Bars, Restaurants  Toronto   \n",
       "539                  Japanese, Restaurants, Sushi Bars  Toronto   \n",
       "569                  Restaurants, Sushi Bars, Japanese  Toronto   \n",
       "671  Restaurants, Seafood, Sushi Bars, Ramen, Japanese  Toronto   \n",
       "\n",
       "                         name  stars cuisine              website  cost  \n",
       "32                     Sagano    3.0   Japan                  NaN     3  \n",
       "438      KaKa All You Can Eat    3.5   Japan  kakaallyoucaneat.ca     3  \n",
       "539  Ki Modern Japanese + Bar    3.5   Japan   www.kijapanese.com     3  \n",
       "569              Yuzu No Hana    4.0   Japan    www.yuzunohana.ca     3  \n",
       "671                Boku Sushi    3.5   Japan                  NaN     3  "
      ]
     },
     "execution_count": 20,
     "metadata": {},
     "output_type": "execute_result"
    }
   ],
   "source": [
    "pred=cluster_predict(Xt)\n",
    "pred=int(pred)\n",
    "out=dfa.loc[dfa[\"Cluster ID\"]==pred]\n",
    "out.head()"
   ]
  },
  {
   "cell_type": "code",
   "execution_count": 21,
   "metadata": {},
   "outputs": [
    {
     "data": {
      "text/plain": [
       "array(['Japan Eats', 'Momo San', 'Hibachi Teppanyaki & Bar',\n",
       "       'Blowfish Restaurant & Sake Bar', 'Kaga By Ginza'], dtype=object)"
      ]
     },
     "execution_count": 21,
     "metadata": {},
     "output_type": "execute_result"
    }
   ],
   "source": [
    "random_subset = out.sample(n=5)\n",
    "random_subset.head()\n",
    "random_subset['name'].values"
   ]
  },
  {
   "cell_type": "code",
   "execution_count": 22,
   "metadata": {},
   "outputs": [],
   "source": [
    "from flask import Flask,render_template,url_for,request\n",
    "import pandas as pd \n",
    "import pickle\n",
    "import requests\n",
    "from bs4 import BeautifulSoup"
   ]
  },
  {
   "cell_type": "code",
   "execution_count": 27,
   "metadata": {},
   "outputs": [],
   "source": [
    "app = Flask(__name__)\n",
    "\n",
    "@app.route('/')\n",
    "def home():\n",
    "    return render_template('home.html')\n",
    "\n",
    "\n",
    "@app.route('/recommend',methods=['POST'])\n",
    "def recommend():\n",
    "    if request.method == 'POST':\n",
    "        option = request.form['cuisine']\n",
    "        \n",
    "        cost=request.form['cost']\n",
    "       \n",
    "        Xt=np.array([[option,cost]])\n",
    "        Xt[:,0] = labelencoder_X.transform(Xt[:,0])\n",
    "       \n",
    "        #onehotencoder = OneHotEncoder(categorical_features = [0])\n",
    "        Xt = onehotencoder.transform(Xt).toarray()\n",
    "       \n",
    "        pred=cluster_predict(Xt)\n",
    "        pred=int(pred)\n",
    "        out=dfa.loc[dfa[\"Cluster ID\"]==pred]\n",
    "        random_subset = out.sample(n=5)\n",
    "        name=random_subset['name'].values\n",
    "        website=random_subset['website'].values\n",
    "        address=random_subset['address'].values\n",
    "        to_pass=[]\n",
    "        for n in range(0,len(name)):\n",
    "            lst=[name[n],address[n],website[n]]\n",
    "            to_pass.append(lst)\n",
    "       # link=random_subset[\"6\"]\n",
    "        print(to_pass)\n",
    "    return render_template('Recommendation.html',myData=to_pass)"
   ]
  },
  {
   "cell_type": "code",
   "execution_count": null,
   "metadata": {},
   "outputs": [
    {
     "name": "stdout",
     "output_type": "stream",
     "text": [
      " * Serving Flask app \"__main__\" (lazy loading)\n",
      " * Environment: production\n",
      "   WARNING: Do not use the development server in a production environment.\n",
      "   Use a production WSGI server instead.\n",
      " * Debug mode: off\n"
     ]
    },
    {
     "name": "stderr",
     "output_type": "stream",
     "text": [
      " * Running on http://127.0.0.1:5000/ (Press CTRL+C to quit)\n",
      "127.0.0.1 - - [19/Feb/2020 23:09:14] \"\u001b[37mGET / HTTP/1.1\u001b[0m\" 200 -\n",
      "127.0.0.1 - - [19/Feb/2020 23:09:18] \"\u001b[37mPOST /recommend HTTP/1.1\u001b[0m\" 200 -\n"
     ]
    },
    {
     "name": "stdout",
     "output_type": "stream",
     "text": [
      "[['Tamarind - The Indian Kitchen', '161 Bay Street, Unit 230', nan], ['Empire Grill', '1100 Eglinton Avenue W', nan], ['Chef Of India', '1415 Yonge Street', 'chefofindia.ca'], ['Bombay Palace', '71 Jarvis Street', 'www.bombaypalacetoronto.com'], ['Savera Indian Cuisine', '815 Saint Clair Avenue W', nan]]\n"
     ]
    }
   ],
   "source": [
    "if __name__ == '__main__':\n",
    "    #app.run(host='0.0.0.0',port=8080)\n",
    "    app.run()"
   ]
  },
  {
   "cell_type": "code",
   "execution_count": null,
   "metadata": {},
   "outputs": [],
   "source": []
  }
 ],
 "metadata": {
  "kernelspec": {
   "display_name": "Python 3",
   "language": "python",
   "name": "python3"
  },
  "language_info": {
   "codemirror_mode": {
    "name": "ipython",
    "version": 3
   },
   "file_extension": ".py",
   "mimetype": "text/x-python",
   "name": "python",
   "nbconvert_exporter": "python",
   "pygments_lexer": "ipython3",
   "version": "3.7.1"
  }
 },
 "nbformat": 4,
 "nbformat_minor": 2
}
